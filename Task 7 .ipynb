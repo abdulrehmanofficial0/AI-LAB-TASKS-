{
 "cells": [
  {
   "cell_type": "code",
   "execution_count": 4,
   "id": "803841a1",
   "metadata": {},
   "outputs": [
    {
     "name": "stdout",
     "output_type": "stream",
     "text": [
      "Path found: ['A', 'C', 'F', 'I']\n"
     ]
    },
    {
     "data": {
      "text/plain": [
       "['A', 'C', 'F', 'I']"
      ]
     },
     "execution_count": 4,
     "metadata": {},
     "output_type": "execute_result"
    }
   ],
   "source": [
    "class Graph:\n",
    "    def __init__(self,adjacency_list):\n",
    "        self.adjacency_list = adjacency_list\n",
    "    def get_neighbors(self,node):\n",
    "        return self.adjacency_list.get(node,[])\n",
    "    def hurestics(self,node):\n",
    "        hurestics={\n",
    "            'A':10,\n",
    "            'B':8,\n",
    "            'C':5,\n",
    "            'D':7,\n",
    "            'E':3,\n",
    "            'F':6,\n",
    "            'G':5,\n",
    "            'H':3,\n",
    "            'I':1,\n",
    "        }\n",
    "        return hurestics[node]\n",
    "    def a_star(self,start,goal):\n",
    "        open_list={start:self.hurestics(start)}\n",
    "        closed_list={}\n",
    "        g={start:0}\n",
    "        parents={start:start}\n",
    "        while open_list:\n",
    "            n=min(open_list,key=open_list.get)\n",
    "            if n==goal or self.get_neighbors(n)==[]:\n",
    "                pass\n",
    "            else:\n",
    "                for (m,weight) in self.get_neighbors(n):\n",
    "                    if m not in open_list and m not in closed_list:\n",
    "                        open_list[m]=g[n]+weight+self.hurestics(m)\n",
    "                        parents[m]=n\n",
    "                        g[m]=g[n]+weight\n",
    "                    else:\n",
    "                        if g[m]>g[n]+weight:\n",
    "                            g[m]=g[n]+weight\n",
    "                            parents[m]=n\n",
    "                            if m in closed_list:\n",
    "                                closed_list.pop(m)\n",
    "                                open_list[m]=g[m]+self.hurestics(m)\n",
    "            if n==goal:\n",
    "                path=[]\n",
    "                while parents[n]!=n:\n",
    "                    path.append(n)\n",
    "                    n=parents[n]\n",
    "                path.append(start)\n",
    "                path.reverse()\n",
    "                print(\"Path found:\",path)\n",
    "                return path\n",
    "            closed_list[n]=True\n",
    "            del open_list[n]\n",
    "            for neighbor in open_list:\n",
    "                open_list[neighbor]=g[neighbor]+self.hurestics(neighbor)\n",
    "                new_g=g[neighbor]\n",
    "                if new_g<g[neighbor]:\n",
    "                    g[neighbor]=new_g\n",
    "                    parents[neighbor]=n\n",
    "\n",
    "        print(\"Path not found\")\n",
    "        return None\n",
    "\n",
    "\n",
    "\n",
    "adjacency_list = {\n",
    "    'A': [('B', 1), ('C', 4)],\n",
    "    'B': [('A', 1), ('D', 2), ('E', 5)],\n",
    "    'C': [('A', 4), ('F', 1)],\n",
    "    'D': [('B', 2), ('G', 1)],\n",
    "    'E': [('B', 5), ('H', 3)],\n",
    "    'F': [('C', 1), ('I', 2)],\n",
    "    'G': [('D', 1)],\n",
    "    'H': [('E', 3)],\n",
    "    'I': [('F', 2)],\n",
    "}\n",
    "graph = Graph(adjacency_list)\n",
    "graph.a_star('A', 'I')\n",
    "        "
   ]
  },
  {
   "cell_type": "code",
   "execution_count": null,
   "id": "15c3cb6b",
   "metadata": {},
   "outputs": [],
   "source": []
  }
 ],
 "metadata": {
  "kernelspec": {
   "display_name": "base",
   "language": "python",
   "name": "python3"
  },
  "language_info": {
   "codemirror_mode": {
    "name": "ipython",
    "version": 3
   },
   "file_extension": ".py",
   "mimetype": "text/x-python",
   "name": "python",
   "nbconvert_exporter": "python",
   "pygments_lexer": "ipython3",
   "version": "3.12.7"
  }
 },
 "nbformat": 4,
 "nbformat_minor": 5
}
