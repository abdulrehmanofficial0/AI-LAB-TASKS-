{
 "cells": [
  {
   "cell_type": "code",
   "execution_count": 1,
   "id": "d39fac3f",
   "metadata": {},
   "outputs": [
    {
     "name": "stdout",
     "output_type": "stream",
     "text": [
      "3\n"
     ]
    }
   ],
   "source": [
    "import math\n",
    "value= [3,5,2,2,7,8,5,8]\n",
    "levels=math.log(len(value),2)\n",
    "\n",
    "def minmax(currDepth, nodeindex, minTurn, values , totalDepth):\n",
    "    if currDepth == totalDepth:\n",
    "        return values[nodeindex]\n",
    "    if minTurn:\n",
    "        return min(minmax(currDepth + 1, nodeindex *2 , False, values, totalDepth),\n",
    "                   minmax(currDepth + 1, nodeindex *2 +1 , False, values, totalDepth))\n",
    "    else:\n",
    "        return max(minmax(currDepth + 1, nodeindex *2 , True, values, totalDepth),\n",
    "                   minmax(currDepth + 1, nodeindex *2 + 1 , True, values, totalDepth))    \n",
    "       \n",
    "\n",
    "print(minmax(0,0,True , value, levels))"
   ]
  },
  {
   "cell_type": "code",
   "execution_count": null,
   "id": "7062382e",
   "metadata": {},
   "outputs": [],
   "source": []
  }
 ],
 "metadata": {
  "kernelspec": {
   "display_name": "base",
   "language": "python",
   "name": "python3"
  },
  "language_info": {
   "codemirror_mode": {
    "name": "ipython",
    "version": 3
   },
   "file_extension": ".py",
   "mimetype": "text/x-python",
   "name": "python",
   "nbconvert_exporter": "python",
   "pygments_lexer": "ipython3",
   "version": "3.12.7"
  }
 },
 "nbformat": 4,
 "nbformat_minor": 5
}
